{
  "nbformat": 4,
  "nbformat_minor": 0,
  "metadata": {
    "colab": {
      "provenance": [],
      "gpuType": "T4"
    },
    "kernelspec": {
      "name": "python3",
      "display_name": "Python 3"
    },
    "language_info": {
      "name": "python"
    },
    "accelerator": "GPU"
  },
  "cells": [
    {
      "cell_type": "code",
      "source": [
        "from google.colab import drive\n",
        "drive.mount('/content/drive')"
      ],
      "metadata": {
        "id": "w2rrvLID1Jpa"
      },
      "execution_count": null,
      "outputs": []
    },
    {
      "cell_type": "code",
      "source": [
        "!rm -rf"
      ],
      "metadata": {
        "id": "UGYlWzzCCT3I"
      },
      "execution_count": null,
      "outputs": []
    },
    {
      "cell_type": "code",
      "source": [
        "%pip install ultralytics"
      ],
      "metadata": {
        "id": "QlH-7AAiCYf-"
      },
      "execution_count": null,
      "outputs": []
    },
    {
      "cell_type": "code",
      "source": [
        "import os\n",
        "import cv2\n",
        "import numpy as np\n",
        "import pandas as pd\n",
        "from tqdm import tqdm\n",
        "import shutil\n",
        "from shutil import copyfile\n",
        "import matplotlib.pyplot as plt\n",
        "from PIL import Image\n",
        "\n",
        "import ultralytics\n",
        "from ultralytics import YOLO\n",
        "ultralytics.checks()"
      ],
      "metadata": {
        "id": "gSIgowcmCZwg"
      },
      "execution_count": null,
      "outputs": []
    },
    {
      "cell_type": "code",
      "source": [
        "!mkdir /kaggle/temp/"
      ],
      "metadata": {
        "id": "U3cPPIg1CeL8"
      },
      "execution_count": null,
      "outputs": []
    },
    {
      "cell_type": "code",
      "source": [
        "orgpaths=[]\n",
        "tmppaths=[]\n",
        "for dirname, _, filenames in os.walk('/kaggle/input/indian-licence-plate/licence plate.v1i.darknet/train'):\n",
        "    for filename in filenames:\n",
        "        orgpaths+=[os.path.join(dirname, filename)]\n",
        "        tmppaths+=[os.path.join('/kaggle/temp/', filename[-12:])]\n",
        "print(len(orgpaths),len(tmppaths))"
      ],
      "metadata": {
        "id": "58AV4RGtCiU7"
      },
      "execution_count": null,
      "outputs": []
    },
    {
      "cell_type": "code",
      "source": [
        "for i in range(len(orgpaths)):\n",
        "    orgpath=orgpaths[i]\n",
        "    tmppath=tmppaths[i]\n",
        "    shutil.copy(orgpath,tmppath)"
      ],
      "metadata": {
        "id": "Eu83Z0GWCm8-"
      },
      "execution_count": null,
      "outputs": []
    },
    {
      "cell_type": "code",
      "source": [
        "ipaths=[]\n",
        "tpaths=[]\n",
        "iname=[]\n",
        "tname=[]\n",
        "for path in tmppaths:\n",
        "    name=path.split('/')[-1][0:-4]\n",
        "    if path[-4:]=='.txt' and name!='dbe0b690':\n",
        "        tpaths+=[path]\n",
        "        tname+=[name]\n",
        "    elif path[-4:]=='.jpg' and name!='dbe0b690':\n",
        "        ipaths+=[path]\n",
        "        iname+=[name]\n",
        "ipaths=sorted(ipaths)\n",
        "tpaths=sorted(tpaths)\n",
        "\n",
        "print(ipaths[0])\n",
        "print(len(ipaths))\n",
        "print(tpaths[0])\n",
        "print(len(tpaths))"
      ],
      "metadata": {
        "id": "U-HrjzxSC96a"
      },
      "execution_count": null,
      "outputs": []
    },
    {
      "cell_type": "code",
      "source": [
        "set(iname)-set(tname)"
      ],
      "metadata": {
        "id": "8jwL4aNxFC28"
      },
      "execution_count": null,
      "outputs": []
    },
    {
      "cell_type": "code",
      "source": [
        "boxdata=[]\n",
        "boxfile=[]\n",
        "for i in range(len(tpaths)):\n",
        "    tfile=tpaths[i]\n",
        "    ifile=ipaths[i]\n",
        "    boxdata+=[np.loadtxt(tfile)]\n",
        "    boxfile+=[ifile.split('/')[-1]]\n",
        "print(boxdata[0])\n",
        "print(boxfile[0])"
      ],
      "metadata": {
        "id": "96l3hjDRFMPl"
      },
      "execution_count": null,
      "outputs": []
    },
    {
      "cell_type": "code",
      "source": [
        "BOX=pd.DataFrame()\n",
        "\n",
        "for i in range(len(boxdata)):\n",
        "    if type(boxdata[i][0])==np.float64:\n",
        "        add=pd.DataFrame([boxdata[i]])\n",
        "        add[5]=boxfile[i]\n",
        "        BOX=pd.concat([BOX,add])\n",
        "    else:\n",
        "        add=pd.DataFrame(boxdata[i])\n",
        "        add[5]=boxfile[i]\n",
        "        BOX=pd.concat([BOX,add])\n",
        "\n",
        "BOX2=BOX.reset_index(drop=True)\n",
        "display(BOX2)"
      ],
      "metadata": {
        "id": "qOSqLm5BFOJo"
      },
      "execution_count": null,
      "outputs": []
    },
    {
      "cell_type": "code",
      "source": [
        "class_map = {0:'plate'}"
      ],
      "metadata": {
        "id": "hpj_6q2JFW3R"
      },
      "execution_count": null,
      "outputs": []
    },
    {
      "cell_type": "code",
      "source": [
        "for i in range(len(BOX2)):\n",
        "    BOX2.iloc[i,0]=class_map[int(BOX2.iloc[i,0])]\n",
        "display(BOX2)\n",
        "display(BOX2.iloc[:,0].value_counts())"
      ],
      "metadata": {
        "id": "bU0mQ_8wF5qQ"
      },
      "execution_count": null,
      "outputs": []
    },
    {
      "cell_type": "code",
      "source": [
        "def draw_box(n0):\n",
        "\n",
        "    ipath=ipaths[n0]\n",
        "    image=cv2.imread(ipath)\n",
        "    H,W=image.shape[0],image.shape[1]\n",
        "    file=ipath.split('/')[-1]\n",
        "\n",
        "    if BOX2[BOX2[5]==file] is not None:\n",
        "        box=BOX2[BOX2[5]==file]\n",
        "        box=box.reset_index(drop=True)\n",
        "        #display(box)\n",
        "\n",
        "        for i in range(len(box)):\n",
        "            label=box.loc[i,0]\n",
        "            x=box.loc[i,1]\n",
        "            y=box.loc[i,2]\n",
        "            w=box.loc[i,3]\n",
        "            h=box.loc[i,4]\n",
        "            x1=((x-w/2)*W).astype(int)\n",
        "            y1=((y-h/2)*H).astype(int)\n",
        "            x2=((x+w/2)*W).astype(int)\n",
        "            y2=((y+h/2)*H).astype(int)\n",
        "\n",
        "            if label=='plate':\n",
        "                cv2.rectangle(image,(x1,y1),(x2,y2),(0,255,0),5) #green\n",
        "\n",
        "    return image"
      ],
      "metadata": {
        "id": "TbfEsQEhGMA4"
      },
      "execution_count": null,
      "outputs": []
    },
    {
      "cell_type": "code",
      "source": [
        "images1=[]\n",
        "for i in range(len(ipaths)):\n",
        "    images1+=[draw_box(i)]"
      ],
      "metadata": {
        "id": "k0H6F4L8GM5R"
      },
      "execution_count": null,
      "outputs": []
    },
    {
      "cell_type": "code",
      "source": [
        "from matplotlib import animation, rc\n",
        "rc('animation', html='jshtml')"
      ],
      "metadata": {
        "id": "Lg2Gz9EnGPdn"
      },
      "execution_count": null,
      "outputs": []
    },
    {
      "cell_type": "code",
      "source": [
        "create_animation(images1)"
      ],
      "metadata": {
        "id": "9gy8xMUcGR8z"
      },
      "execution_count": null,
      "outputs": []
    },
    {
      "cell_type": "code",
      "source": [
        "os.makedirs('datasets', exist_ok=True)\n",
        "os.makedirs('datasets/train', exist_ok=True)\n",
        "os.makedirs('datasets/valid', exist_ok=True)\n",
        "os.makedirs('datasets/test', exist_ok=True)"
      ],
      "metadata": {
        "id": "xY5kBz4uHbVL"
      },
      "execution_count": null,
      "outputs": []
    },
    {
      "cell_type": "code",
      "source": [
        "for i in range(len(ipaths)):\n",
        "    ipath=ipaths[i]\n",
        "    ifile=ipath.split('/')[-1]\n",
        "    tpath=tpaths[i]\n",
        "    tfile=tpath.split('/')[-1]\n",
        "\n",
        "    if i%3==0:\n",
        "        copyfile(ipath, f'datasets/train/{ifile}')\n",
        "        copyfile(tpath, f'datasets/train/{tfile}')\n",
        "    elif i%3==1:\n",
        "        copyfile(ipath, f'datasets/valid/{ifile}')\n",
        "        copyfile(tpath, f'datasets/valid/{tfile}')\n",
        "    else:\n",
        "        copyfile(ipath, f'datasets/test/{ifile}')"
      ],
      "metadata": {
        "id": "0JTTthGsKFJl"
      },
      "execution_count": null,
      "outputs": []
    },
    {
      "cell_type": "code",
      "source": [
        "import yaml\n",
        "\n",
        "plate_yaml = dict(\n",
        "    train ='train',\n",
        "    val ='valid',\n",
        "    test='test',\n",
        "    nc =1,\n",
        "    names =['plate',]\n",
        ")\n",
        "\n",
        "with open('plate.yaml', 'w') as outfile:\n",
        "    yaml.dump(plate_yaml, outfile, default_flow_style=True)\n",
        "\n",
        "%cat coin.yaml"
      ],
      "metadata": {
        "id": "OUXf0mt3KKCY"
      },
      "execution_count": null,
      "outputs": []
    },
    {
      "cell_type": "code",
      "source": [
        "model = YOLO(\"yolov8n.pt\")"
      ],
      "metadata": {
        "id": "XxuBUOFpKVmt"
      },
      "execution_count": null,
      "outputs": []
    },
    {
      "cell_type": "code",
      "source": [
        "!yolo task=detect mode=train model=yolov8n.pt data=plate.yaml epochs=10 imgsz=640"
      ],
      "metadata": {
        "id": "vSCP9iogKZVZ"
      },
      "execution_count": null,
      "outputs": []
    },
    {
      "cell_type": "code",
      "source": [
        "tpaths2=[]\n",
        "for dirname, _, filenames in os.walk('/kaggle/working/runs/detect/train'):\n",
        "    for filename in filenames:\n",
        "        if filename[-4:]=='.png' or filename[-4:]=='.jpg':\n",
        "            tpaths2+=[(os.path.join(dirname, filename))]\n",
        "tpaths2=sorted(tpaths2)\n",
        "print(tpaths2[0])"
      ],
      "metadata": {
        "id": "K6f99yRNKaeO"
      },
      "execution_count": null,
      "outputs": []
    },
    {
      "cell_type": "code",
      "source": [
        "for path in tpaths2:\n",
        "    image = Image.open(path)\n",
        "    image=np.array(image)\n",
        "    plt.figure(figsize=(20,10))\n",
        "    plt.imshow(image)\n",
        "    plt.show()"
      ],
      "metadata": {
        "id": "A5h0lwI5Kvhg"
      },
      "execution_count": null,
      "outputs": []
    },
    {
      "cell_type": "code",
      "source": [
        "best_path0='runs/detect/train/weights/best.pt'\n",
        "source0='datasets/test'"
      ],
      "metadata": {
        "id": "fgOG61ycKyHh"
      },
      "execution_count": null,
      "outputs": []
    },
    {
      "cell_type": "code",
      "source": [
        "ppaths=[]\n",
        "for dirname, _, filenames in os.walk(source0):\n",
        "    for filename in filenames:\n",
        "        if filename[-4:]=='.jpg':\n",
        "            ppaths+=[(os.path.join(dirname, filename))]\n",
        "ppaths=sorted(ppaths)\n",
        "print(ppaths[0])"
      ],
      "metadata": {
        "id": "11myhkxtK5ea"
      },
      "execution_count": null,
      "outputs": []
    },
    {
      "cell_type": "code",
      "source": [
        "model2 = YOLO(best_path0)"
      ],
      "metadata": {
        "id": "jxnvCWAjK9Yb"
      },
      "execution_count": null,
      "outputs": []
    },
    {
      "cell_type": "code",
      "source": [
        "!yolo task=detect mode=predict model={best_path0} conf=0.05 source={source0}"
      ],
      "metadata": {
        "id": "glVUPHw2LAN5"
      },
      "execution_count": null,
      "outputs": []
    },
    {
      "cell_type": "code",
      "source": [
        "results = model2.predict(source0,conf=0.05)\n",
        "print(len(results))"
      ],
      "metadata": {
        "id": "G4bae7sYLD3_"
      },
      "execution_count": null,
      "outputs": []
    },
    {
      "cell_type": "code",
      "source": [
        "PBOX=pd.DataFrame(columns=range(6))\n",
        "for i in range(len(results)):\n",
        "    arri=pd.DataFrame(results[i].boxes.boxes).astype(float)\n",
        "    path=ppaths[i]\n",
        "    file=path.split('/')[-1]\n",
        "    arri=arri.assign(file=file)\n",
        "    arri=arri.assign(i=i)\n",
        "    PBOX=pd.concat([PBOX,arri],axis=0)\n",
        "PBOX.columns=['x','y','x2','y2','confidence','class','file','i']\n",
        "display(PBOX)"
      ],
      "metadata": {
        "id": "89C6zHPxLL4_"
      },
      "execution_count": null,
      "outputs": []
    },
    {
      "cell_type": "code",
      "source": [
        "PBOX['class']=PBOX['class'].apply(lambda x: class_map[int(x)])\n",
        "PBOX=PBOX.reset_index(drop=True)\n",
        "display(PBOX)\n",
        "display(PBOX['class'].value_counts())"
      ],
      "metadata": {
        "id": "JxlPdHknLU-M"
      },
      "execution_count": null,
      "outputs": []
    },
    {
      "cell_type": "code",
      "source": [
        "def draw_box2(n0):\n",
        "\n",
        "    ipath=ppaths[n0]\n",
        "    image=cv2.imread(ipath)\n",
        "    H,W=image.shape[0],image.shape[1]\n",
        "    file=ipath.split('/')[-1]\n",
        "\n",
        "    if PBOX[PBOX['file']==file] is not None:\n",
        "        box=PBOX[PBOX['file']==file]\n",
        "        box=box.reset_index(drop=True)\n",
        "        #display(box)\n",
        "\n",
        "        for i in range(len(box)):\n",
        "            label=box.loc[i,'class']\n",
        "            x=int(box.loc[i,'x'])\n",
        "            y=int(box.loc[i,'y'])\n",
        "            x2=int(box.loc[i,'x2'])\n",
        "            y2=int(box.loc[i,'y2'])\n",
        "            #print(label,x,y,x2,y2)\n",
        "\n",
        "            if label=='plate':\n",
        "                cv2.rectangle(image,(x,y),(x2,y2),(0,255,0),5) #green\n",
        "\n",
        "    #plt.imshow(image)\n",
        "    #plt.show()\n",
        "\n",
        "    return image"
      ],
      "metadata": {
        "id": "JZGf8GBxLX2D"
      },
      "execution_count": null,
      "outputs": []
    },
    {
      "cell_type": "code",
      "source": [
        "images2=[]\n",
        "for i in tqdm(range(len(ppaths))):\n",
        "    images2+=[draw_box2(i)]"
      ],
      "metadata": {
        "id": "pS2Pp29nLgJo"
      },
      "execution_count": null,
      "outputs": []
    },
    {
      "cell_type": "code",
      "source": [
        "create_animation(images2)"
      ],
      "metadata": {
        "id": "AcJSIFIFLhAj"
      },
      "execution_count": null,
      "outputs": []
    },
    {
      "cell_type": "code",
      "source": [],
      "metadata": {
        "id": "pBL8Me64Ljrb"
      },
      "execution_count": null,
      "outputs": []
    }
  ]
}